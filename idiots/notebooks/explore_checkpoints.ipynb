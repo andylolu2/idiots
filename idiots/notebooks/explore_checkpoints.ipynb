{
 "cells": [
  {
   "cell_type": "code",
   "execution_count": null,
   "metadata": {
    "ExecuteTime": {
     "end_time": "2024-02-17T00:07:59.330443695Z",
     "start_time": "2024-02-17T00:07:59.271265200Z"
    }
   },
   "outputs": [],
   "source": [
    "%load_ext autoreload\n",
    "%autoreload 2"
   ]
  },
  {
   "cell_type": "code",
   "execution_count": null,
   "metadata": {
    "ExecuteTime": {
     "end_time": "2024-02-17T00:08:00.786594472Z",
     "start_time": "2024-02-17T00:08:00.411064925Z"
    }
   },
   "outputs": [],
   "source": [
    "from pathlib import Path\n",
    "import random\n",
    "\n",
    "import jax.numpy as jnp\n",
    "import seaborn as sns\n",
    "import pandas as pd\n",
    "import matplotlib.pyplot as plt\n",
    "import neural_tangents as nt\n",
    "\n",
    "from idiots.dataset.dataloader import DataLoader\n",
    "from idiots.experiments.grokking.training import eval_step, dots\n",
    "from idiots.experiments.classification.training import restore\n",
    "from idiots.utils import metrics"
   ]
  },
  {
   "cell_type": "code",
   "execution_count": null,
   "metadata": {
    "ExecuteTime": {
     "end_time": "2024-02-17T00:08:02.987182712Z",
     "start_time": "2024-02-17T00:08:02.952034256Z"
    }
   },
   "outputs": [],
   "source": [
    "# checkpoint_dir = Path(\"/home/dc755/idiots/logs/grokking/exp22/checkpoints\")\n",
    "checkpoint_dir = Path(\"logs/mnist/mnist_adamw/checkpoints\")\n",
    "batch_size = 512\n",
    "\n",
    "_, state, _, _ = restore(checkpoint_dir, 0)\n",
    "\n",
    "kernel_fn = nt.empirical_ntk_fn(\n",
    "    state.apply_fn,\n",
    "    trace_axes=(),\n",
    "    vmap_axes=0,\n",
    "    implementation=nt.NtkImplementation.STRUCTURED_DERIVATIVES,\n",
    ")\n",
    "\n",
    "\n",
    "def compute_dots(kernel_fn, params, ds, sample_size: int, batch_size: int) -> int:\n",
    "    random_indices = random.sample(range(len(ds)), sample_size)\n",
    "    return dots(kernel_fn, params, ds.select(random_indices)[\"x\"], batch_size).item()\n",
    "\n",
    "\n",
    "def eval_checkpoint(step):\n",
    "    config, state, ds_train, ds_test = restore(checkpoint_dir, step)\n",
    "\n",
    "    def eval_loss_acc(ds):\n",
    "        for batch in DataLoader(ds, batch_size):\n",
    "            logs = eval_step(state, batch, config.loss_variant)\n",
    "            metrics.log(**logs)\n",
    "        [losses, accuracies] = metrics.collect(\"eval_loss\", \"eval_accuracy\")\n",
    "        loss = jnp.concatenate(losses).mean().item()\n",
    "        acc = jnp.concatenate(accuracies).mean().item()\n",
    "        return loss, acc\n",
    "\n",
    "    train_loss, train_acc = eval_loss_acc(ds_train)\n",
    "    test_loss, test_acc = eval_loss_acc(ds_test)\n",
    "    train_dots = compute_dots(kernel_fn, state.params, ds_train, 128, 64)\n",
    "    test_dots = compute_dots(kernel_fn, state.params, ds_test, 128, 64)\n",
    "\n",
    "    return {\n",
    "        \"step\": step,\n",
    "        \"train_loss\": train_loss,\n",
    "        \"train_acc\": train_acc,\n",
    "        \"test_loss\": test_loss,\n",
    "        \"test_acc\": test_acc,\n",
    "        \"train_dots\": train_dots,\n",
    "        \"test_dots\": test_dots,\n",
    "    }"
   ]
  },
  {
   "cell_type": "code",
   "execution_count": null,
   "metadata": {},
   "outputs": [],
   "source": [
    "eval_checkpoint(0)"
   ]
  },
  {
   "cell_type": "code",
   "execution_count": null,
   "metadata": {
    "ExecuteTime": {
     "end_time": "2024-02-17T00:08:10.409949070Z",
     "start_time": "2024-02-17T00:08:10.299569360Z"
    }
   },
   "outputs": [],
   "source": [
    "data = []\n",
    "for step in range(0, 20000 + 1, 1000):\n",
    "    data.append(eval_checkpoint(step))"
   ]
  },
  {
   "cell_type": "code",
   "execution_count": null,
   "metadata": {
    "ExecuteTime": {
     "end_time": "2024-02-17T00:08:15.033951336Z",
     "start_time": "2024-02-17T00:08:14.993711472Z"
    }
   },
   "outputs": [],
   "source": [
    "df = pd.DataFrame(data)\n",
    "\n",
    "df_loss = df[[\"step\", \"train_loss\", \"test_loss\"]]\n",
    "df_loss = df_loss.melt(\"step\", var_name=\"split\", value_name=\"loss\")\n",
    "df_loss[\"split\"] = df_loss[\"split\"].str.replace(\"_loss\", \"\")\n",
    "\n",
    "\n",
    "df_acc = df[[\"step\", \"train_acc\", \"test_acc\"]]\n",
    "df_acc = df_acc.melt(\"step\", var_name=\"split\", value_name=\"accuracy\")\n",
    "df_acc[\"split\"] = df_acc[\"split\"].str.replace(\"_acc\", \"\")\n",
    "\n",
    "df_dots = df[[\"step\", \"train_dots\", \"test_dots\"]]\n",
    "df_dots = df_dots.melt(\"step\", var_name=\"split\", value_name=\"dots\")\n",
    "df_dots[\"split\"] = df_dots[\"split\"].str.replace(\"_dots\", \"\")\n",
    "\n",
    "fig, axs = plt.subplots(1, 3, figsize=(12, 3))\n",
    "\n",
    "sns.lineplot(data=df_loss, x=\"step\", y=\"loss\", hue=\"split\", marker=\"o\", ax=axs[0])\n",
    "sns.lineplot(data=df_acc, x=\"step\", y=\"accuracy\", hue=\"split\", marker=\"o\", ax=axs[1])\n",
    "sns.lineplot(data=df_dots, x=\"step\", y=\"dots\", hue=\"split\", marker=\"o\", ax=axs[2])\n",
    "\n",
    "axs[0].set(ylim=(0, 0.6))\n",
    "axs[1].set(ylim=(0.9, 1))\n",
    "fig.tight_layout()"
   ]
  },
  {
   "cell_type": "code",
   "execution_count": null,
   "metadata": {
    "collapsed": false
   },
   "outputs": [],
   "source": []
  }
 ],
 "metadata": {
  "kernelspec": {
   "display_name": "idiots",
   "language": "python",
   "name": "python3"
  },
  "language_info": {
   "codemirror_mode": {
    "name": "ipython",
    "version": 3
   },
   "file_extension": ".py",
   "mimetype": "text/x-python",
   "name": "python",
   "nbconvert_exporter": "python",
   "pygments_lexer": "ipython3",
   "version": "3.11.8"
  }
 },
 "nbformat": 4,
 "nbformat_minor": 2
}
