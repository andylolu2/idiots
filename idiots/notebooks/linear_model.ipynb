{
 "cells": [
  {
   "cell_type": "code",
   "execution_count": null,
   "metadata": {
    "ExecuteTime": {
     "end_time": "2024-02-17T00:07:59.330443695Z",
     "start_time": "2024-02-17T00:07:59.271265200Z"
    }
   },
   "outputs": [],
   "source": [
    "%load_ext autoreload\n",
    "%autoreload 2"
   ]
  },
  {
   "cell_type": "code",
   "execution_count": null,
   "metadata": {},
   "outputs": [],
   "source": [
    "%env XLA_PYTHON_CLIENT_MEM_FRACTION=0.95"
   ]
  },
  {
   "cell_type": "code",
   "execution_count": null,
   "metadata": {
    "ExecuteTime": {
     "end_time": "2024-02-17T00:08:00.786594472Z",
     "start_time": "2024-02-17T00:08:00.411064925Z"
    }
   },
   "outputs": [],
   "source": [
    "from pathlib import Path\n",
    "\n",
    "import jax.numpy as jnp\n",
    "import seaborn as sns\n",
    "import pandas as pd\n",
    "import matplotlib.pyplot as plt\n",
    "import neural_tangents as nt\n",
    "\n",
    "from idiots.dataset.dataloader import DataLoader\n",
    "from idiots.experiments.grokking.training import restore, eval_step\n",
    "from idiots.utils import metrics"
   ]
  },
  {
   "cell_type": "code",
   "execution_count": null,
   "metadata": {
    "ExecuteTime": {
     "end_time": "2024-02-17T00:08:02.987182712Z",
     "start_time": "2024-02-17T00:08:02.952034256Z"
    }
   },
   "outputs": [],
   "source": [
    "# checkpoint_dir = Path(\"/home/dc755/idiots/logs/grokking/exp22/checkpoints\")\n",
    "checkpoint_dir = Path(\"logs/grokking/exp21/checkpoints\")\n",
    "\n",
    "# def linear_model_from(step):\n",
    "config, state, ds_train, ds_test = restore(checkpoint_dir, 0)\n",
    "kernel_fn = nt.empirical_ntk_fn(state.apply_fn, trace_axes=(), vmap_axes=0)\n",
    "kernel_fn = nt.batch(kernel_fn, batch_size=32)"
   ]
  },
  {
   "cell_type": "code",
   "execution_count": null,
   "metadata": {},
   "outputs": [],
   "source": [
    "train_size = 512\n",
    "# test_size = 128\n",
    "\n",
    "x_train = ds_train[\"x\"][:train_size]\n",
    "# x_test = ds_test[\"x\"][:test_size]\n",
    "\n",
    "k_train_train = kernel_fn(x_train, x_train, state.params)\n",
    "k_train_train.shape, k_train_train.size, k_train_train.nbytes / 1e6, k_train_train.dtype"
   ]
  },
  {
   "cell_type": "code",
   "execution_count": null,
   "metadata": {
    "ExecuteTime": {
     "end_time": "2024-02-17T00:08:10.409949070Z",
     "start_time": "2024-02-17T00:08:10.299569360Z"
    }
   },
   "outputs": [],
   "source": [
    "plt.imshow(jnp.abs(k_train_train[0, 4]))\n",
    "plt.colorbar()"
   ]
  },
  {
   "cell_type": "code",
   "execution_count": null,
   "metadata": {},
   "outputs": [],
   "source": []
  },
  {
   "cell_type": "code",
   "execution_count": null,
   "metadata": {
    "ExecuteTime": {
     "end_time": "2024-02-17T00:08:15.033951336Z",
     "start_time": "2024-02-17T00:08:14.993711472Z"
    }
   },
   "outputs": [],
   "source": [
    "df = pd.DataFrame(data)\n",
    "\n",
    "df_loss = df[[\"step\", \"train_loss\", \"test_loss\"]]\n",
    "df_loss = df_loss.melt(\"step\", var_name=\"split\", value_name=\"loss\")\n",
    "df_loss[\"split\"] = df_loss[\"split\"].str.replace(\"_loss\", \"\")\n",
    "\n",
    "\n",
    "df_acc = df[[\"step\", \"train_acc\", \"test_acc\"]]\n",
    "df_acc = df_acc.melt(\"step\", var_name=\"split\", value_name=\"accuracy\")\n",
    "df_acc[\"split\"] = df_acc[\"split\"].str.replace(\"_acc\", \"\")\n",
    "\n",
    "fig, axs = plt.subplots(1, 2, figsize=(12, 6))\n",
    "\n",
    "sns.lineplot(data=df_loss, x=\"step\", y=\"loss\", hue=\"split\", marker=\"o\", ax=axs[0])\n",
    "sns.lineplot(data=df_acc, x=\"step\", y=\"accuracy\", hue=\"split\", marker=\"o\", ax=axs[1])"
   ]
  },
  {
   "cell_type": "code",
   "execution_count": null,
   "metadata": {
    "collapsed": false
   },
   "outputs": [],
   "source": []
  }
 ],
 "metadata": {
  "kernelspec": {
   "display_name": "idiots",
   "language": "python",
   "name": "python3"
  },
  "language_info": {
   "codemirror_mode": {
    "name": "ipython",
    "version": 3
   },
   "file_extension": ".py",
   "mimetype": "text/x-python",
   "name": "python",
   "nbconvert_exporter": "python",
   "pygments_lexer": "ipython3",
   "version": "3.11.6"
  }
 },
 "nbformat": 4,
 "nbformat_minor": 2
}
