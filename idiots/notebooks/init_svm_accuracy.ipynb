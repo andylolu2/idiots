{
 "cells": [
  {
   "cell_type": "code",
   "execution_count": null,
   "metadata": {},
   "outputs": [],
   "source": [
    "%load_ext autoreload\n",
    "%autoreload 2"
   ]
  },
  {
   "cell_type": "code",
   "execution_count": null,
   "metadata": {},
   "outputs": [],
   "source": [
    "!export PYTHONPATH=\"${PYTHONPATH}:/home/dc755/idiots\""
   ]
  },
  {
   "cell_type": "code",
   "execution_count": null,
   "metadata": {},
   "outputs": [],
   "source": [
    "from pathlib import Path\n",
    "import json\n",
    "\n",
    "import jax\n",
    "import jax.numpy as jnp\n",
    "import numpy as np\n",
    "import seaborn as sns\n",
    "import pandas as pd\n",
    "import matplotlib.pyplot as plt\n",
    "import neural_tangents as nt\n",
    "from einops import rearrange\n",
    "from sklearn.svm import SVC\n",
    "from sklearn.metrics import accuracy_score\n",
    "from sklearn.model_selection import train_test_split\n",
    "\n",
    "from idiots.dataset.dataloader import DataLoader\n",
    "from idiots.experiments.grokking.training import restore as restore_grokking\n",
    "from idiots.experiments.grokking.training import eval_step\n",
    "from idiots.experiments.classification.training import (\n",
    "    restore as restore_classification,\n",
    "    restore_partial as restore_partial_classification,\n",
    ")\n",
    "from idiots.utils import metrics"
   ]
  },
  {
   "cell_type": "code",
   "execution_count": null,
   "metadata": {},
   "outputs": [],
   "source": [
    "checkpoint_dir = Path(\"logs/checkpoints/mnist/exp26/checkpoints\")\n",
    "N_train = 32\n",
    "N_test = 256\n",
    "\n",
    "mngr, config, state, ds_train, ds_test = restore_classification(checkpoint_dir, 0)\n",
    "\n",
    "kernel_fn = nt.empirical_kernel_fn(\n",
    "    state.apply_fn,\n",
    "    vmap_axes=0,\n",
    "    implementation=nt.NtkImplementation.STRUCTURED_DERIVATIVES,\n",
    ")\n",
    "\n",
    "X_train, _, Y_train, _ = train_test_split(\n",
    "    ds_train[\"x\"], ds_train[\"y\"], train_size=N_train\n",
    ")\n",
    "X_test, _, Y_test, _ = train_test_split(ds_test[\"x\"], ds_test[\"y\"], train_size=N_test)\n",
    "\n",
    "\n",
    "def eval_init(init_scale: float):\n",
    "    params = state.params\n",
    "    params = jax.tree_map(lambda x: x * init_scale, params)\n",
    "\n",
    "    def custom_kernel(X1, X2):\n",
    "        kernel_fn_batched = nt.batch(kernel_fn, batch_size=64)\n",
    "        return kernel_fn_batched(X1, X2, \"ntk\", params)\n",
    "\n",
    "    svc = SVC(kernel=custom_kernel)\n",
    "    svc.fit(X_train, Y_train)\n",
    "\n",
    "    predictions = svc.predict(X_test)\n",
    "    accuracy = accuracy_score(Y_test, predictions)\n",
    "\n",
    "    return {\"accuracy\": accuracy, \"init_scale\": init_scale}"
   ]
  },
  {
   "cell_type": "code",
   "execution_count": null,
   "metadata": {},
   "outputs": [],
   "source": [
    "data = []\n",
    "for init_scale in np.geomspace(1e-4, 0.2, 100):\n",
    "    data.append(eval_init(init_scale))"
   ]
  },
  {
   "cell_type": "code",
   "execution_count": null,
   "metadata": {},
   "outputs": [],
   "source": [
    "df = pd.DataFrame(data)\n",
    "df[\"init_scale\"] *= config.model.init_scale\n",
    "\n",
    "ax = sns.lineplot(data=df, x=\"init_scale\", y=\"accuracy\", marker=\"o\")"
   ]
  }
 ],
 "metadata": {
  "kernelspec": {
   "display_name": "venv",
   "language": "python",
   "name": "python3"
  },
  "language_info": {
   "codemirror_mode": {
    "name": "ipython",
    "version": 3
   },
   "file_extension": ".py",
   "mimetype": "text/x-python",
   "name": "python",
   "nbconvert_exporter": "python",
   "pygments_lexer": "ipython3",
   "version": "3.11.6"
  }
 },
 "nbformat": 4,
 "nbformat_minor": 2
}
