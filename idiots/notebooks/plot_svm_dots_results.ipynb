{
 "cells": [
  {
   "cell_type": "markdown",
   "metadata": {},
   "source": []
  },
  {
   "cell_type": "code",
   "execution_count": 3,
   "metadata": {},
   "outputs": [],
   "source": [
    "import matplotlib.pyplot as plt \n",
    "import pandas as pd \n",
    "import seaborn as sns\n",
    "from pathlib import Path\n",
    "import jax\n",
    "import jax.numpy as jnp\n",
    "import math"
   ]
  },
  {
   "cell_type": "code",
   "execution_count": 7,
   "metadata": {},
   "outputs": [],
   "source": [
    "logs_base_path = \"../../logs/\"\n",
    "\n",
    "experiment_names = [\"mnist-64\", \"mnist-128\"]\n",
    "\n",
    "min_dots = math.inf \n",
    "max_dots = -math.inf \n",
    "\n",
    "for experiment_name in experiment_names:\n",
    "  checkpoint_dir = Path(logs_base_path, \"results\", f\"{experiment_name}.json\")\n",
    "\n",
    "  with open(checkpoint_dir, \"r\") as json_file:\n",
    "    df = pd.read_json(json_file)\n",
    "\n",
    "  max_dots = max(max_dots, max(df[\"dots\"]))\n",
    "  min_dots = min(min_dots, min(df[\"dots\"]))"
   ]
  },
  {
   "cell_type": "code",
   "execution_count": 9,
   "metadata": {},
   "outputs": [
    {
     "ename": "FileNotFoundError",
     "evalue": "[Errno 2] No such file or directory: '../../logs/results/div-alternate-trained.json'",
     "output_type": "error",
     "traceback": [
      "\u001b[0;31m---------------------------------------------------------------------------\u001b[0m",
      "\u001b[0;31mFileNotFoundError\u001b[0m                         Traceback (most recent call last)",
      "Cell \u001b[0;32mIn[9], line 11\u001b[0m\n\u001b[1;32m      7\u001b[0m \u001b[38;5;28;01mfor\u001b[39;00m i, experiment_name \u001b[38;5;129;01min\u001b[39;00m \u001b[38;5;28menumerate\u001b[39m(experiment_names):\n\u001b[1;32m      9\u001b[0m     checkpoint_dir \u001b[38;5;241m=\u001b[39m Path(logs_base_path, \u001b[38;5;124m\"\u001b[39m\u001b[38;5;124mresults\u001b[39m\u001b[38;5;124m\"\u001b[39m, \u001b[38;5;124mf\u001b[39m\u001b[38;5;124m\"\u001b[39m\u001b[38;5;132;01m{\u001b[39;00mexperiment_name\u001b[38;5;132;01m}\u001b[39;00m\u001b[38;5;124m.json\u001b[39m\u001b[38;5;124m\"\u001b[39m)\n\u001b[0;32m---> 11\u001b[0m     \u001b[38;5;28;01mwith\u001b[39;00m \u001b[38;5;28;43mopen\u001b[39;49m\u001b[43m(\u001b[49m\u001b[43mcheckpoint_dir\u001b[49m\u001b[43m,\u001b[49m\u001b[43m \u001b[49m\u001b[38;5;124;43m\"\u001b[39;49m\u001b[38;5;124;43mr\u001b[39;49m\u001b[38;5;124;43m\"\u001b[39;49m\u001b[43m)\u001b[49m \u001b[38;5;28;01mas\u001b[39;00m json_file:\n\u001b[1;32m     12\u001b[0m         df \u001b[38;5;241m=\u001b[39m pd\u001b[38;5;241m.\u001b[39mread_json(json_file)\n\u001b[1;32m     14\u001b[0m     df[\u001b[38;5;124m\"\u001b[39m\u001b[38;5;124mstep\u001b[39m\u001b[38;5;124m\"\u001b[39m] \u001b[38;5;241m=\u001b[39m df\u001b[38;5;241m.\u001b[39mindex \u001b[38;5;241m*\u001b[39m \u001b[38;5;241m1000\u001b[39m\n",
      "File \u001b[0;32m~/Documents/01_Computer_Science/III/Theory_of_Deep_Learning/idiots/venv/lib/python3.11/site-packages/IPython/core/interactiveshell.py:310\u001b[0m, in \u001b[0;36m_modified_open\u001b[0;34m(file, *args, **kwargs)\u001b[0m\n\u001b[1;32m    303\u001b[0m \u001b[38;5;28;01mif\u001b[39;00m file \u001b[38;5;129;01min\u001b[39;00m {\u001b[38;5;241m0\u001b[39m, \u001b[38;5;241m1\u001b[39m, \u001b[38;5;241m2\u001b[39m}:\n\u001b[1;32m    304\u001b[0m     \u001b[38;5;28;01mraise\u001b[39;00m \u001b[38;5;167;01mValueError\u001b[39;00m(\n\u001b[1;32m    305\u001b[0m         \u001b[38;5;124mf\u001b[39m\u001b[38;5;124m\"\u001b[39m\u001b[38;5;124mIPython won\u001b[39m\u001b[38;5;124m'\u001b[39m\u001b[38;5;124mt let you open fd=\u001b[39m\u001b[38;5;132;01m{\u001b[39;00mfile\u001b[38;5;132;01m}\u001b[39;00m\u001b[38;5;124m by default \u001b[39m\u001b[38;5;124m\"\u001b[39m\n\u001b[1;32m    306\u001b[0m         \u001b[38;5;124m\"\u001b[39m\u001b[38;5;124mas it is likely to crash IPython. If you know what you are doing, \u001b[39m\u001b[38;5;124m\"\u001b[39m\n\u001b[1;32m    307\u001b[0m         \u001b[38;5;124m\"\u001b[39m\u001b[38;5;124myou can use builtins\u001b[39m\u001b[38;5;124m'\u001b[39m\u001b[38;5;124m open.\u001b[39m\u001b[38;5;124m\"\u001b[39m\n\u001b[1;32m    308\u001b[0m     )\n\u001b[0;32m--> 310\u001b[0m \u001b[38;5;28;01mreturn\u001b[39;00m \u001b[43mio_open\u001b[49m\u001b[43m(\u001b[49m\u001b[43mfile\u001b[49m\u001b[43m,\u001b[49m\u001b[43m \u001b[49m\u001b[38;5;241;43m*\u001b[39;49m\u001b[43margs\u001b[49m\u001b[43m,\u001b[49m\u001b[43m \u001b[49m\u001b[38;5;241;43m*\u001b[39;49m\u001b[38;5;241;43m*\u001b[39;49m\u001b[43mkwargs\u001b[49m\u001b[43m)\u001b[49m\n",
      "\u001b[0;31mFileNotFoundError\u001b[0m: [Errno 2] No such file or directory: '../../logs/results/div-alternate-trained.json'"
     ]
    },
    {
     "data": {
      "image/png": "[encoded data removed]",
      "text/plain": [
       "<Figure size 2500x500 with 4 Axes>"
      ]
     },
     "metadata": {},
     "output_type": "display_data"
    }
   ],
   "source": [
    "logs_base_path = \"../../logs/\"\n",
    "num_experiments = len(experiment_names)\n",
    "\n",
    "fig, axs = plt.subplots(1, num_experiments, figsize=(5 + num_experiments * 5, 5), sharey=True)\n",
    "\n",
    "for i, experiment_name in enumerate(experiment_names):\n",
    "    \n",
    "    checkpoint_dir = Path(logs_base_path, \"results\", f\"{experiment_name}.json\")\n",
    "\n",
    "    with open(checkpoint_dir, \"r\") as json_file:\n",
    "        df = pd.read_json(json_file)\n",
    "\n",
    "    df[\"step\"] = df.index * 1000\n",
    "\n",
    "    ax1 = axs[i]\n",
    "    ax2 = ax1.twinx()\n",
    "\n",
    "    sns.lineplot(data=df, x=\"step\", y=\"training_acc\", label=\"transformer training accuracy\", ax=ax1)\n",
    "    sns.lineplot(data=df, x=\"step\", y=\"test_acc\", label=\"transformer test accuracy\", ax=ax1)\n",
    "    sns.lineplot(data=df, x=\"step\", y=\"svm_accuracy\", label=\"kernel accuracy\", ax=ax1)\n",
    "    \n",
    "    ax1.set_xlabel(\"epochs\")\n",
    "    ax1.set_ylabel(\"accuracy\")\n",
    "    ax1.set_ylim([-0.05, 1.05])\n",
    "    ax1.legend().set_visible(False)\n",
    "\n",
    "    sns.lineplot(data=df, x=\"step\", y=\"dots\", label=\"DOTS\", color=\"purple\", ax=ax2)\n",
    "    \n",
    "    if i == len(experiment_names) - 1:\n",
    "      ax2.set_ylabel(\"DOTS\")\n",
    "    else: \n",
    "      ax2.set_ylabel(\"\")\n",
    "\n",
    "    visual_buffer = (max_dots - min_dots) * 0.05\n",
    "    ax2.set_ylim([min_dots - visual_buffer, max_dots + visual_buffer])\n",
    "\n",
    "    lines, labels = ax1.get_legend_handles_labels() \n",
    "    lines2, labels2 = ax2.get_legend_handles_labels() \n",
    "\n",
    "    if i == len(experiment_names) - 1:\n",
    "      ax2.legend(lines + lines2, labels + labels2, loc='center left', bbox_to_anchor=(1.15, 0.5))\n",
    "    else: \n",
    "      ax2.legend().set_visible(False)\n",
    "      ax2.tick_params(axis='y', which='both', labelright=False)\n",
    "\n",
    "    ax1.set_title(experiment_name)\n",
    "\n",
    "fig.tight_layout()"
   ]
  },
  {
   "cell_type": "code",
   "execution_count": 7,
   "metadata": {},
   "outputs": [
    {
     "name": "stdout",
     "output_type": "stream",
     "text": [
      "[[4207260.5   926567.2   886161.8  ... 1579979.4  1160899.9  1163921.9 ]\n",
      " [ 926567.2  1901744.9   412414.8  ...  861282.6   847615.5   553444.06]\n",
      " [ 886161.8   412414.8  2017606.4  ...  606726.6   596839.94  701513.5 ]\n",
      " ...\n",
      " [1579979.4   861282.6   606726.6  ... 2693215.5   950305.5  1081067.4 ]\n",
      " [1160899.9   847615.5   596839.94 ...  950305.5  3051216.8   760532.4 ]\n",
      " [1163921.9   553444.06  701513.5  ... 1081067.4   760532.4  2708633.5 ]]\n"
     ]
    },
    {
     "name": "stderr",
     "output_type": "stream",
     "text": [
      "2024-02-25 10:36:11.900952: W external/xla/xla/service/gpu/nvptx_compiler.cc:744] The NVIDIA driver's CUDA version is 12.2 which is older than the ptxas CUDA version (12.3.107). Because the driver is older than the ptxas version, XLA is disabling parallel compilation, which may slow down compilation. You should update your NVIDIA driver or use the NVIDIA-provided CUDA forward compatibility packages.\n"
     ]
    }
   ],
   "source": [
    "s5_checkpoint_dir = Path(logs_base_path, \"results\", \"s5.json\")\n",
    "\n",
    "with open(checkpoint_dir, \"r\") as json_file:\n",
    "  df = pd.read_json(json_file)\n",
    "\n",
    "print(jnp.array(df[\"kernel\"][0]))"
   ]
  },
  {
   "cell_type": "code",
   "execution_count": 11,
   "metadata": {},
   "outputs": [
    {
     "data": {
      "text/plain": [
       "512"
      ]
     },
     "execution_count": 11,
     "metadata": {},
     "output_type": "execute_result"
    }
   ],
   "source": [
    "kernel = jnp.array(df[\"kernel\"][0])\n",
    "x = jnp.linalg.matrix_rank(kernel)\n",
    "int(jax.device_get(x))"
   ]
  },
  {
   "cell_type": "code",
   "execution_count": null,
   "metadata": {},
   "outputs": [],
   "source": []
  }
 ],
 "metadata": {
  "kernelspec": {
   "display_name": "venv",
   "language": "python",
   "name": "python3"
  },
  "language_info": {
   "codemirror_mode": {
    "name": "ipython",
    "version": 3
   },
   "file_extension": ".py",
   "mimetype": "text/x-python",
   "name": "python",
   "nbconvert_exporter": "python",
   "pygments_lexer": "ipython3",
   "version": "3.11.8"
  }
 },
 "nbformat": 4,
 "nbformat_minor": 2
}
