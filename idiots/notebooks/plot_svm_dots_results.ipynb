{
 "cells": [
  {
   "cell_type": "code",
   "execution_count": null,
   "metadata": {},
   "outputs": [],
   "source": [
    "import math\n",
    "from pathlib import Path\n",
    "\n",
    "import matplotlib.pyplot as plt\n",
    "import pandas as pd\n",
    "import seaborn as sns"
   ]
  },
  {
   "cell_type": "code",
   "execution_count": null,
   "metadata": {},
   "outputs": [],
   "source": [
    "logs_base_path = \"../../logs/\"\n",
    "logs_base_path = \"logs/\"\n",
    "experiment_names = [\"mnist-gd-grokking\", \"mnist-grokking-slower\"]"
   ]
  },
  {
   "cell_type": "code",
   "execution_count": null,
   "metadata": {},
   "outputs": [],
   "source": [
    "num_experiments = len(experiment_names)\n",
    "\n",
    "fig, axs = plt.subplots(\n",
    "    3,\n",
    "    num_experiments,\n",
    "    figsize=(2 + num_experiments * 6, 6),\n",
    "    sharex=\"col\",\n",
    "    sharey=\"row\",\n",
    "    squeeze=False,\n",
    "    gridspec_kw={\"height_ratios\": [3, 1, 1]},\n",
    ")\n",
    "\n",
    "for i, experiment_name in enumerate(experiment_names):\n",
    "    checkpoint_dir = Path(logs_base_path, \"results\", f\"{experiment_name}.json\")\n",
    "\n",
    "    with open(checkpoint_dir, \"r\") as json_file:\n",
    "        df = pd.read_json(json_file)\n",
    "\n",
    "    if not \"step\" in df.keys():\n",
    "        df[\"step\"] = df.index * 5\n",
    "\n",
    "    ax1 = axs[0, i]\n",
    "    ax2 = axs[1, i]\n",
    "    ax3 = axs[2, i]\n",
    "\n",
    "    sns.lineplot(data=df, x=\"step\", y=\"training_acc\", label=\"Transformer train\", ax=ax1)\n",
    "    sns.lineplot(data=df, x=\"step\", y=\"test_acc\", label=\"Transformer test\", ax=ax1)\n",
    "    sns.lineplot(data=df, x=\"step\", y=\"svm_accuracy\", label=\"SVM\", ax=ax1)\n",
    "    sns.lineplot(data=df, x=\"step\", y=\"gp_accuracy\", label=\"GP\", ax=ax1)\n",
    "    ax1.set(ylabel=\"Accuracy\" if i == 0 else \"\", title=experiment_name)\n",
    "\n",
    "    sns.lineplot(data=df, x=\"step\", y=\"kernel_alignment\", ax=ax2)\n",
    "    ax2.set(ylabel=\"Kernel alignment\" if i == 0 else \"\")\n",
    "\n",
    "    sns.lineplot(data=df, x=\"step\", y=\"dots\", ax=ax3)\n",
    "    ax3.set(ylabel=\"DOTS\" if i == 0 else \"\")\n",
    "\n",
    "    lines, labels = ax1.get_legend_handles_labels()\n",
    "    lines2, labels2 = ax2.get_legend_handles_labels()\n",
    "\n",
    "    if i == len(experiment_names) - 1:\n",
    "        ax1.legend(\n",
    "            lines + lines2,\n",
    "            labels + labels2,\n",
    "            loc=\"center left\",\n",
    "            bbox_to_anchor=(1.15, 0.5),\n",
    "        )\n",
    "    else:\n",
    "        ax1.legend().set_visible(False)\n",
    "\n",
    "fig.tight_layout()"
   ]
  }
 ],
 "metadata": {
  "kernelspec": {
   "display_name": "idiots",
   "language": "python",
   "name": "python3"
  },
  "language_info": {
   "codemirror_mode": {
    "name": "ipython",
    "version": 3
   },
   "file_extension": ".py",
   "mimetype": "text/x-python",
   "name": "python",
   "nbconvert_exporter": "python",
   "pygments_lexer": "ipython3",
   "version": "3.11.6"
  }
 },
 "nbformat": 4,
 "nbformat_minor": 2
}
