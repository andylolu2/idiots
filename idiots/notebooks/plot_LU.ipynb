{
 "cells": [
  {
   "cell_type": "code",
   "execution_count": null,
   "metadata": {},
   "outputs": [],
   "source": [
    "from pathlib import Path\n",
    "\n",
    "import matplotlib.pyplot as plt\n",
    "import pandas as pd\n",
    "import seaborn as sns"
   ]
  },
  {
   "cell_type": "code",
   "execution_count": null,
   "metadata": {},
   "outputs": [],
   "source": [
    "# logs_base_path = \"../../logs/\"\n",
    "# logs_base_path = \"/home/dc755/idiots/logs/\"\n",
    "logs_base_path = \"logs/results\"\n",
    "\n",
    "results = list(Path(logs_base_path).glob(\"mnist-fixed-norm-*.json\"))"
   ]
  },
  {
   "cell_type": "code",
   "execution_count": null,
   "metadata": {},
   "outputs": [],
   "source": [
    "dfs = []\n",
    "for i, results_file in enumerate(results):\n",
    "    with open(results_file, \"r\") as f:\n",
    "        df = pd.read_json(f)\n",
    "    dfs.append(df.iloc[df[\"step\"].idxmax()])\n",
    "\n",
    "df = pd.concat(dfs, axis=1).T\n",
    "\n",
    "fig, axs = plt.subplots(\n",
    "    4,\n",
    "    1,\n",
    "    figsize=(6, 8),\n",
    "    sharex=\"col\",\n",
    "    squeeze=False,\n",
    ")\n",
    "\n",
    "print(df.columns)\n",
    "\n",
    "for key, name in [\n",
    "    (\"training_acc\", \"Training error\"),\n",
    "    (\"test_acc\", \"Test error\"),\n",
    "    (\"svm_train_accuracy\", \"SVM train error\"),\n",
    "    (\"svm_accuracy\", \"SVM test error\"),\n",
    "    (\"gp_accuracy\", \"GP error\"),\n",
    "]:\n",
    "    sns.lineplot(\n",
    "        x=df[\"weight_norm\"], y=1 - df[key], label=name, ax=axs[0, 0], marker=\"o\"\n",
    "    )\n",
    "axs[0, 0].set(xscale=\"log\", ylabel=\"Error\", xlabel=\"Weight norm\")\n",
    "\n",
    "for key, name in [\n",
    "    (\"train_loss\", \"Training loss\"),\n",
    "    (\"test_loss\", \"Test loss\"),\n",
    "]:\n",
    "    sns.lineplot(x=df[\"weight_norm\"], y=df[key], label=name, ax=axs[1, 0], marker=\"o\")\n",
    "axs[1, 0].set(xscale=\"log\", ylabel=\"Loss\", xlabel=\"Weight norm\", ylim=(-1e-3, 0.1))\n",
    "\n",
    "sns.lineplot(x=df[\"weight_norm\"], y=df[\"kernel_alignment\"], ax=axs[2, 0], marker=\"o\")\n",
    "axs[2, 0].set(xscale=\"log\", ylabel=\"Kernel alignment\", xlabel=\"Weight norm\")\n",
    "\n",
    "sns.lineplot(x=df[\"weight_norm\"], y=df[\"dots\"], ax=axs[3, 0], marker=\"o\")\n",
    "axs[3, 0].set(xscale=\"log\", ylabel=\"Dots\", xlabel=\"Weight norm\")"
   ]
  },
  {
   "cell_type": "code",
   "execution_count": null,
   "metadata": {},
   "outputs": [],
   "source": [
    "fig, axs = plt.subplots(\n",
    "    2,\n",
    "    num_experiments,\n",
    "    figsize=(2 + num_experiments * 6, 4),\n",
    "    sharex=\"col\",\n",
    "    sharey=\"row\",\n",
    "    squeeze=False,\n",
    ")\n",
    "\n",
    "for i, experiment_name in enumerate(experiment_names):\n",
    "    checkpoint_dir = Path(logs_base_path, \"results\", f\"{experiment_name}.json\")\n",
    "\n",
    "    with open(checkpoint_dir, \"r\") as json_file:\n",
    "        df = pd.read_json(json_file)\n",
    "\n",
    "    if not \"step\" in df.keys():\n",
    "        df[\"step\"] = df.index * 5\n",
    "\n",
    "    ax1 = axs[0, i]\n",
    "    ax2 = axs[1, i]\n",
    "\n",
    "    sns.lineplot(data=df, x=\"relative_weight_norm\", y=\"train_loss\", ax=ax1)\n",
    "    ax1.set(xlabel=\"Weight norm\", ylabel=\"Train loss\", title=experiment_name)\n",
    "\n",
    "    sns.lineplot(data=df, x=\"relative_weight_norm\", y=\"test_loss\", ax=ax2)\n",
    "    ax2.set(xlabel=\"Weight norm\", ylabel=\"Test loss\")\n",
    "\n",
    "fig.tight_layout()\n",
    "plt.show()"
   ]
  },
  {
   "cell_type": "code",
   "execution_count": null,
   "metadata": {},
   "outputs": [],
   "source": []
  }
 ],
 "metadata": {
  "kernelspec": {
   "display_name": "idiots",
   "language": "python",
   "name": "python3"
  },
  "language_info": {
   "codemirror_mode": {
    "name": "ipython",
    "version": 3
   },
   "file_extension": ".py",
   "mimetype": "text/x-python",
   "name": "python",
   "nbconvert_exporter": "python",
   "pygments_lexer": "ipython3",
   "version": "3.11.6"
  }
 },
 "nbformat": 4,
 "nbformat_minor": 2
}
