{
 "cells": [
  {
   "cell_type": "code",
   "execution_count": null,
   "metadata": {},
   "outputs": [],
   "source": [
    "from pathlib import Path\n",
    "\n",
    "import matplotlib.pyplot as plt\n",
    "import pandas as pd\n",
    "import seaborn as sns\n",
    "import scienceplots\n",
    "\n",
    "plt.style.use([\"science\", \"grid\"])"
   ]
  },
  {
   "cell_type": "code",
   "execution_count": null,
   "metadata": {},
   "outputs": [],
   "source": [
    "# logs_base_path = \"../../logs/\"\n",
    "# logs_base_path = \"/home/dc755/idiots/logs/\"\n",
    "logs_base_path = \"logs/results\"\n",
    "\n",
    "results = []\n",
    "\n",
    "for exp in [43, 44, 45, 46, 47, 48, 49, 50, 52, 53, 54, 55, 56, 58, 59, 60]:\n",
    "    results.append(Path(logs_base_path) / f\"mnist-fixed-norm-gf-{exp}.json\")"
   ]
  },
  {
   "cell_type": "code",
   "execution_count": null,
   "metadata": {},
   "outputs": [],
   "source": [
    "dfs = []\n",
    "for i, results_file in enumerate(results):\n",
    "    with open(results_file, \"r\") as f:\n",
    "        df = pd.read_json(f)\n",
    "    row = df.iloc[df[\"test_acc\"].idxmax()].copy()\n",
    "    row[\"dots_init\"] = df.query(\"step == 0\")[\"dots\"].values[0]\n",
    "    row[\"source\"] = results_file\n",
    "    dfs.append(row)\n",
    "\n",
    "df = pd.concat(dfs, axis=1).T\n",
    "\n",
    "fig, axs = plt.subplots(\n",
    "    3,\n",
    "    1,\n",
    "    figsize=(5, 4),\n",
    "    sharex=True,\n",
    "    squeeze=False,\n",
    "    height_ratios=[2, 1, 1],\n",
    ")\n",
    "\n",
    "ax1, ax2, ax3 = axs.flatten()\n",
    "\n",
    "for key, name in [\n",
    "    (\"training_acc\", \"MLP (train)\"),\n",
    "    (\"test_acc\", \"MLP (test)\"),\n",
    "    # (\"svm_train_accuracy\", \"SVM train error\"),\n",
    "    (\"svm_accuracy\", \"SVM\"),\n",
    "    (\"gp_accuracy\", \"Kernel regression\"),\n",
    "]:\n",
    "    sns.lineplot(\n",
    "        x=df[\"weight_norm\"],\n",
    "        y=1 - df[key],\n",
    "        label=name,\n",
    "        ax=ax1,\n",
    "        marker=\"o\",\n",
    "        markersize=4,\n",
    "    )\n",
    "ax1.set(xscale=\"log\", ylabel=\"Error\", xlabel=\"Weight norm\")\n",
    "\n",
    "sns.lineplot(\n",
    "    x=df[\"weight_norm\"], y=df[\"kernel_alignment\"], ax=ax2, marker=\"o\", markersize=4\n",
    ")\n",
    "ax2.set(xscale=\"log\", ylabel=\"Kernel alignment\", xlabel=\"Weight norm\")\n",
    "\n",
    "sns.lineplot(\n",
    "    x=df[\"weight_norm\"],\n",
    "    y=df[\"dots_init\"],\n",
    "    ax=ax3,\n",
    "    marker=\"o\",\n",
    "    label=\"Initial\",\n",
    "    markersize=4,\n",
    ")\n",
    "sns.lineplot(\n",
    "    x=df[\"weight_norm\"], y=df[\"dots\"], ax=ax3, marker=\"o\", label=\"Final\", markersize=4\n",
    ")\n",
    "ax3.set(xscale=\"log\", ylabel=\"DOTS\", xlabel=\"Weight norm\")\n",
    "\n",
    "fig.tight_layout()\n",
    "\n",
    "# plt.savefig(\"logs/plots/mnist-fixed-norm-gf.pdf\", bbox_inches=\"tight\")"
   ]
  },
  {
   "cell_type": "code",
   "execution_count": null,
   "metadata": {},
   "outputs": [],
   "source": [
    "df[[\"weight_norm\", \"source\"]].query(\"weight_norm > 10\").sort_values(\"weight_norm\")"
   ]
  }
 ],
 "metadata": {
  "kernelspec": {
   "display_name": "idiots",
   "language": "python",
   "name": "python3"
  },
  "language_info": {
   "codemirror_mode": {
    "name": "ipython",
    "version": 3
   },
   "file_extension": ".py",
   "mimetype": "text/x-python",
   "name": "python",
   "nbconvert_exporter": "python",
   "pygments_lexer": "ipython3",
   "version": "3.11.6"
  }
 },
 "nbformat": 4,
 "nbformat_minor": 2
}
